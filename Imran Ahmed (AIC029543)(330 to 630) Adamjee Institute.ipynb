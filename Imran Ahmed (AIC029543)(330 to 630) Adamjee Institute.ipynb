{
 "cells": [
  {
   "cell_type": "markdown",
   "metadata": {},
   "source": [
    "# Q1:"
   ]
  },
  {
   "cell_type": "markdown",
   "metadata": {},
   "source": [
    "Think of at least three kinds of your favorite pizza. Store these pizza names in a list, and then use a for loop to print the name of each pizza."
   ]
  },
  {
   "cell_type": "code",
   "execution_count": 12,
   "metadata": {},
   "outputs": [
    {
     "name": "stdout",
     "output_type": "stream",
     "text": [
      "pizza1\n",
      "pizza2\n",
      "pizza3\n",
      "pizza4\n"
     ]
    }
   ],
   "source": [
    "pizzas = ['pizza1', 'pizza2','pizza3','pizza4']\n",
    "for pizza in pizzas:\n",
    "    print(pizza)"
   ]
  },
  {
   "cell_type": "code",
   "execution_count": null,
   "metadata": {},
   "outputs": [],
   "source": []
  },
  {
   "cell_type": "markdown",
   "metadata": {},
   "source": [
    "# Q2"
   ]
  },
  {
   "cell_type": "markdown",
   "metadata": {},
   "source": [
    "Start with your last question , Modify your for loop to print a sentence using the name of the pizza\n",
    "instead of printing just the name of the pizza. For each pizza you should\n",
    "have one line of output containing a simple statement like I like pepperoni\n",
    "pizza."
   ]
  },
  {
   "cell_type": "code",
   "execution_count": 32,
   "metadata": {},
   "outputs": [
    {
     "name": "stdout",
     "output_type": "stream",
     "text": [
      "4\n",
      "I like pizza1\n",
      "I like pizza2\n",
      "I like pizza3\n",
      "I like pizza4\n"
     ]
    }
   ],
   "source": [
    "pizzas = ['pizza1', 'pizza2','pizza3','pizza4']\n",
    "j=len(pizzas)\n",
    "print(j)\n",
    "\n",
    "for i in range(j):\n",
    "\n",
    "    print(f'I like {pizzas[i]}')"
   ]
  },
  {
   "cell_type": "code",
   "execution_count": null,
   "metadata": {},
   "outputs": [],
   "source": []
  },
  {
   "cell_type": "markdown",
   "metadata": {},
   "source": [
    "# Q3:"
   ]
  },
  {
   "cell_type": "markdown",
   "metadata": {},
   "source": [
    "Use a for loop to print the numbers from 1 to 20,\n",
    "inclusive."
   ]
  },
  {
   "cell_type": "code",
   "execution_count": 33,
   "metadata": {},
   "outputs": [
    {
     "name": "stdout",
     "output_type": "stream",
     "text": [
      "1\n",
      "2\n",
      "3\n",
      "4\n",
      "5\n",
      "6\n",
      "7\n",
      "8\n",
      "9\n",
      "10\n",
      "11\n",
      "12\n",
      "13\n",
      "14\n",
      "15\n",
      "16\n",
      "17\n",
      "18\n",
      "19\n",
      "20\n"
     ]
    }
   ],
   "source": [
    "for  i in range(1,21,1):\n",
    "    print(i)\n"
   ]
  },
  {
   "cell_type": "code",
   "execution_count": null,
   "metadata": {},
   "outputs": [],
   "source": []
  },
  {
   "cell_type": "markdown",
   "metadata": {},
   "source": [
    "# Q4:"
   ]
  },
  {
   "cell_type": "markdown",
   "metadata": {},
   "source": [
    "Use the third argument of the range() function to make a list\n",
    "of the odd numbers from 1 to 20. Use a for loop to print each number."
   ]
  },
  {
   "cell_type": "code",
   "execution_count": 34,
   "metadata": {},
   "outputs": [
    {
     "name": "stdout",
     "output_type": "stream",
     "text": [
      "1\n",
      "3\n",
      "5\n",
      "7\n",
      "9\n",
      "11\n",
      "13\n",
      "15\n",
      "17\n",
      "19\n"
     ]
    }
   ],
   "source": [
    "for i in range(1,20,2):\n",
    "    print(i)"
   ]
  },
  {
   "cell_type": "code",
   "execution_count": null,
   "metadata": {},
   "outputs": [],
   "source": []
  },
  {
   "cell_type": "markdown",
   "metadata": {},
   "source": [
    "# Q5:"
   ]
  },
  {
   "cell_type": "markdown",
   "metadata": {},
   "source": [
    "Make a list of the multiples of 3 from 3 to 30. Use a for loop to\n",
    "print the numbers in your list."
   ]
  },
  {
   "cell_type": "code",
   "execution_count": 35,
   "metadata": {},
   "outputs": [
    {
     "name": "stdout",
     "output_type": "stream",
     "text": [
      "3\n",
      "9\n",
      "27\n"
     ]
    }
   ],
   "source": [
    "lists_of_multiples = [3,9,27]\n",
    "for i in range(3):\n",
    "    print(lists_of_multiples[i])\n"
   ]
  },
  {
   "cell_type": "code",
   "execution_count": null,
   "metadata": {},
   "outputs": [],
   "source": []
  },
  {
   "cell_type": "markdown",
   "metadata": {},
   "source": [
    "# Q6:"
   ]
  },
  {
   "cell_type": "markdown",
   "metadata": {},
   "source": [
    "A number raised to the third power is called a cube. For example,\n",
    "the cube of 2 is written as 2**3 in Python. Make a list of the first 10 cubes (that\n",
    "is, the cube of each integer from 1 through 10), and use a for loop to print out\n",
    "the value of each cube"
   ]
  },
  {
   "cell_type": "code",
   "execution_count": 36,
   "metadata": {},
   "outputs": [
    {
     "name": "stdout",
     "output_type": "stream",
     "text": [
      "1 1\n",
      "2 8\n",
      "3 27\n",
      "4 64\n",
      "5 125\n",
      "6 216\n",
      "7 343\n",
      "8 512\n",
      "9 729\n",
      "10 1000\n"
     ]
    }
   ],
   "source": [
    "for x in range(1,11):\n",
    "    print(x,x**3)\n"
   ]
  },
  {
   "cell_type": "code",
   "execution_count": null,
   "metadata": {},
   "outputs": [],
   "source": []
  },
  {
   "cell_type": "markdown",
   "metadata": {},
   "source": [
    "# Q7:"
   ]
  },
  {
   "cell_type": "markdown",
   "metadata": {},
   "source": [
    "###### Make a python program that conatains your nine favourite dishes in a list called foods.\n",
    "\n",
    "###### Print the message, The first three items in the list are:. \n",
    "###### Then use a slice to print the first three items from that program’s list.\n",
    "\n",
    "###### Print the message, Three items from the middle of the list are:\n",
    "###### Use a slice to print three items from the middle of the list.\n",
    "\n",
    "###### Print the message, The last three items in the list are:()\n",
    "###### Use a slice to print the last three items in the list."
   ]
  },
  {
   "cell_type": "code",
   "execution_count": 37,
   "metadata": {},
   "outputs": [
    {
     "name": "stdout",
     "output_type": "stream",
     "text": [
      "The first three items in the list are:\n",
      "Daal\n",
      "chawal\n",
      "Biryani\n"
     ]
    }
   ],
   "source": [
    "list_of_dishes = ['Daal','chawal','Biryani','Daal Mash','karai','Haleem','Nahari','Chicken Tikka','Broast']\n",
    "print('The first three items in the list are:')\n",
    "print(list_of_dishes[0])\n",
    "print(list_of_dishes[1])\n",
    "print(list_of_dishes[2])"
   ]
  },
  {
   "cell_type": "code",
   "execution_count": 38,
   "metadata": {},
   "outputs": [
    {
     "name": "stdout",
     "output_type": "stream",
     "text": [
      "The first three items in the list are:\n",
      "Daal\n",
      "chawal\n",
      "Biryani\n"
     ]
    }
   ],
   "source": [
    "list_of_dishes = ['Daal','chawal','Biryani','Daal Mash','karai','Haleem','Nahari','Chicken Tikka','Broast']\n",
    "print('The first three items in the list are:')\n",
    "for i in range(3):\n",
    "    if i <= 3:\n",
    "        print(list_of_dishes[i])\n"
   ]
  },
  {
   "cell_type": "code",
   "execution_count": 39,
   "metadata": {},
   "outputs": [
    {
     "name": "stdout",
     "output_type": "stream",
     "text": [
      "['Daal', 'chawal', 'Biryani']\n"
     ]
    }
   ],
   "source": [
    "lists_of_dishes = ['Daal','chawal','Biryani','Daal Mash','karai','Haleem','Nahari','Chicken Tikka','Broast']\n",
    "print(lists_of_dishes[:3])"
   ]
  },
  {
   "cell_type": "code",
   "execution_count": 40,
   "metadata": {},
   "outputs": [
    {
     "name": "stdout",
     "output_type": "stream",
     "text": [
      "The three items from middle of list of dishes are: \n",
      "['Daal Mash', 'karai', 'Haleem']\n"
     ]
    }
   ],
   "source": [
    "lists_of_dishes = ['Daal','chawal','Biryani','Daal Mash','karai','Haleem','Nahari','Chicken Tikka','Broast']\n",
    "print(\"The three items from middle of list of dishes are: \")\n",
    "print(lists_of_dishes[3:6])"
   ]
  },
  {
   "cell_type": "code",
   "execution_count": 41,
   "metadata": {},
   "outputs": [
    {
     "name": "stdout",
     "output_type": "stream",
     "text": [
      "The three items from middle of the lists are:\n",
      "Daal Mash\n",
      "karai\n",
      "Haleem\n"
     ]
    }
   ],
   "source": [
    "list_of_dishes = ['Daal','chawal','Biryani','Daal Mash','karai','Haleem','Nahari','Chicken Tikka','Broast']\n",
    "print('The three items from middle of the lists are:')\n",
    "for i in range(3,6):\n",
    "    if i > 2 and i < 6:\n",
    "        print(list_of_dishes[i])\n"
   ]
  },
  {
   "cell_type": "code",
   "execution_count": 42,
   "metadata": {},
   "outputs": [
    {
     "name": "stdout",
     "output_type": "stream",
     "text": [
      "The last three items in the list are:\n",
      "Nahari\n",
      "Chicken Tikka\n",
      "Broast\n"
     ]
    }
   ],
   "source": [
    "list_of_dishes = ['Daal','chawal','Biryani','Daal Mash','karai','Haleem','Nahari','Chicken Tikka','Broast']\n",
    "print('The last three items in the list are:')\n",
    "#a=list_of_dishes.count(list_of_dishes)\n",
    "for i in range(5,9):\n",
    "    if i > 5 and i < 10:\n",
    "        print(list_of_dishes[i])\n",
    "\n",
    "        "
   ]
  },
  {
   "cell_type": "code",
   "execution_count": 43,
   "metadata": {},
   "outputs": [
    {
     "name": "stdout",
     "output_type": "stream",
     "text": [
      "The last three items from list of dishes are: \n",
      "['Nahari', 'Chicken Tikka', 'Broast']\n"
     ]
    }
   ],
   "source": [
    "lists_of_dishes = ['Daal','chawal','Biryani','Daal Mash','karai','Haleem','Nahari','Chicken Tikka','Broast']\n",
    "print(\"The last three items from list of dishes are: \")\n",
    "print(lists_of_dishes[6:9])"
   ]
  },
  {
   "cell_type": "code",
   "execution_count": null,
   "metadata": {},
   "outputs": [],
   "source": []
  },
  {
   "cell_type": "markdown",
   "metadata": {},
   "source": [
    "# Q8:"
   ]
  },
  {
   "cell_type": "markdown",
   "metadata": {},
   "source": [
    "### Start with your program from your last Question8.\n",
    "###### Make a copy of the list of foods, and call it friend_foods.\n",
    "###### Then, do the following:\n",
    "######    Add a new dish to the original list.\n",
    "######    Add a different dish to the list friend_foodss.\n",
    "######    Prove that you have two separate lists. \n",
    "###### Print the message, My favorite pizzas are: and then use a for loop to print the first list. \n",
    "###### Print the message,\n",
    "###### My friend’s favorite foods are:, and then use a for loop to print the second list.\n",
    "    \n",
    "##### NOTE: Make sure each new dish is stored in the appropriate list."
   ]
  },
  {
   "cell_type": "code",
   "execution_count": 44,
   "metadata": {},
   "outputs": [
    {
     "name": "stdout",
     "output_type": "stream",
     "text": [
      "['Daal', 'chawal', 'Biryani', 'Daal Mash', 'karai', 'Haleem', 'Nahari', 'Chicken Tikka', 'Broast']\n",
      "['Daal', 'chawal', 'Biryani', 'Daal Mash', 'karai', 'Haleem', 'Nahari', 'Chicken Tikka', 'Broast']\n",
      "['Daal', 'chawal', 'Biryani', 'Daal Mash', 'karai', 'Haleem', 'Nahari', 'Chicken Tikka', 'Broast', 'polao']\n"
     ]
    }
   ],
   "source": [
    "list_of_dishes = ['Daal','chawal','Biryani','Daal Mash','karai','Haleem','Nahari','Chicken Tikka','Broast']\n",
    "friend_foods = list_of_dishes.copy()\n",
    "print(friend_foods)\n",
    "print(list_of_dishes)\n",
    "list_of_dishes.append('polao')\n",
    "print(list_of_dishes)        "
   ]
  },
  {
   "cell_type": "code",
   "execution_count": 45,
   "metadata": {},
   "outputs": [
    {
     "name": "stdout",
     "output_type": "stream",
     "text": [
      "friend foods list are: \n",
      "['Daal', 'chawal', 'Biryani', 'Daal Mash', 'karai', 'Haleem', 'Nahari', 'Chicken Tikka', 'Broast']\n",
      "new friend foods list are: \n",
      "['Daal', 'chawal', 'Biryani', 'Daal Mash', 'karai', 'Haleem', 'Nahari', 'Chicken Tikka', 'Broast', 'qorma']\n"
     ]
    }
   ],
   "source": [
    "list_of_dishes = ['Daal','chawal','Biryani','Daal Mash','karai','Haleem','Nahari','Chicken Tikka','Broast']\n",
    "friend_foods = list_of_dishes.copy()\n",
    "print(\"friend foods list are: \")\n",
    "print(friend_foods)\n",
    "new_friend_foods = list_of_dishes.copy()\n",
    "new_friend_foods.append('qorma')\n",
    "print(\"new friend foods list are: \")\n",
    "print(new_friend_foods)     "
   ]
  },
  {
   "cell_type": "code",
   "execution_count": 46,
   "metadata": {},
   "outputs": [
    {
     "name": "stdout",
     "output_type": "stream",
     "text": [
      "list of dishes list are: \n",
      "['Daal', 'chawal', 'Biryani', 'Daal Mash', 'karai', 'Haleem', 'Nahari', 'Chicken Tikka', 'Broast']\n",
      "new friend foods list are: \n",
      "['Daal', 'chawal', 'Biryani', 'Daal Mash', 'karai', 'Haleem', 'Nahari', 'Chicken Tikka', 'Broast', 'qorma']\n"
     ]
    }
   ],
   "source": [
    "list_of_dishes = ['Daal','chawal','Biryani','Daal Mash','karai','Haleem','Nahari','Chicken Tikka','Broast']\n",
    "\n",
    "print(\"list of dishes list are: \")\n",
    "print(list_of_dishes)\n",
    "\n",
    "new_friend_foods = list_of_dishes.copy()\n",
    "new_friend_foods.append('qorma')\n",
    "print(\"new friend foods list are: \")\n",
    "print(new_friend_foods)     "
   ]
  },
  {
   "cell_type": "code",
   "execution_count": 47,
   "metadata": {},
   "outputs": [
    {
     "name": "stdout",
     "output_type": "stream",
     "text": [
      "friend foods list are: \n",
      "Daal\n",
      "chawal\n",
      "Biryani\n",
      "Daal Mash\n",
      "karai\n",
      "Haleem\n",
      "Nahari\n",
      "Chicken Tikka\n",
      "Broast\n"
     ]
    }
   ],
   "source": [
    "list_of_dishes = ['Daal','chawal','Biryani','Daal Mash','karai','Haleem','Nahari','Chicken Tikka','Broast']\n",
    "friend_foods = list_of_dishes.copy()\n",
    "print(\"friend foods list are: \")\n",
    "for i in range(9):\n",
    "    print(friend_foods[i])"
   ]
  },
  {
   "cell_type": "code",
   "execution_count": null,
   "metadata": {},
   "outputs": [],
   "source": [
    " "
   ]
  },
  {
   "cell_type": "code",
   "execution_count": null,
   "metadata": {},
   "outputs": [],
   "source": []
  },
  {
   "cell_type": "markdown",
   "metadata": {},
   "source": [
    "# Q9:"
   ]
  },
  {
   "cell_type": "markdown",
   "metadata": {},
   "source": [
    "Take a user input from console line.Store it in a variable called Alien_color.\n",
    "\n",
    "If the alien’s color is red, print a statement that the player just earned 5 points for shooting the alien.\n",
    "\n",
    "If the alien’s color isn’t green, print a statement that the player just earned 10 points.\n",
    "\n",
    "If the alien's color isn't red or green , print a statment :, Alien is no more....."
   ]
  },
  {
   "cell_type": "code",
   "execution_count": 48,
   "metadata": {},
   "outputs": [
    {
     "name": "stdout",
     "output_type": "stream",
     "text": [
      "enter Alien color: red\n",
      "list of alien color:\n",
      "['red']\n",
      "player earn 5 points\n"
     ]
    }
   ],
   "source": [
    "Alien_color = []\n",
    "a = input(\"enter Alien color: \")\n",
    "\n",
    "Alien_color.append(a)\n",
    "print('list of alien color:')\n",
    "print(str(Alien_color))\n",
    "\n",
    "if a == 'red':\n",
    "    print('player earn 5 points')\n",
    "elif a == 'green' :\n",
    "    print('player earn 10 points')\n",
    "else:\n",
    "    print('Alien is no more.')\n"
   ]
  },
  {
   "cell_type": "code",
   "execution_count": null,
   "metadata": {},
   "outputs": [],
   "source": []
  },
  {
   "cell_type": "markdown",
   "metadata": {},
   "source": [
    "# Q10:"
   ]
  },
  {
   "cell_type": "markdown",
   "metadata": {},
   "source": [
    "Write an if-elif-else chain that determines a person’s\n",
    "stage of life. Set a value for the variable age, and then:\n",
    "    \n",
    "•\t If the person is less than 2 years old, print a message that the person is a baby.\n",
    "\n",
    "•\t If the person is at least 2 years old but less than 4, print a message that the person is a toddler.\n",
    "\n",
    "•\t If the person is at least 4 years old but less than 13, print a message that the person is a kid.\n",
    "\n",
    "•\t If the person is at least 13 years old but less than 20, print a message that the person is a teenager.\n",
    "\n",
    "•\t If the person is at least 20 years old but less than 65, print a message that the person is an adult.\n",
    "\n",
    "•\t If the person is age 65 or older, print a message that the person is an elder."
   ]
  },
  {
   "cell_type": "code",
   "execution_count": 49,
   "metadata": {},
   "outputs": [
    {
     "name": "stdout",
     "output_type": "stream",
     "text": [
      "enter your age: 89\n",
      "your are a elder.\n"
     ]
    }
   ],
   "source": [
    "age = int(input('enter your age: '))\n",
    "if age < 2:\n",
    "    print('your are a baby.')\n",
    "elif age == 2 or age < 4:\n",
    "    print('your are a toddler.')\n",
    "elif age == 4 or age < 13:\n",
    "    print('your are a kid.')\n",
    "elif age == 13 or age < 20:\n",
    "    print('your are a teenager.')\n",
    "elif age == 20 or age < 65:\n",
    "    print('your are a adult.')\n",
    "else:\n",
    "    print('your are a elder.')\n",
    "    \n",
    "    "
   ]
  },
  {
   "cell_type": "code",
   "execution_count": null,
   "metadata": {},
   "outputs": [],
   "source": []
  },
  {
   "cell_type": "markdown",
   "metadata": {},
   "source": [
    "# Q11:"
   ]
  },
  {
   "cell_type": "markdown",
   "metadata": {},
   "source": [
    "Do the following to create a program that simulates how websites ensure that everyone has a unique username.\n",
    "\n",
    "•\t Make a list of five or more usernames called current_users.\n",
    "\n",
    "•\t Make another list of five usernames called new_users. \n",
    "Make sure one or two of the new usernames are also in the current_users list.\n",
    "\n",
    "•\t Loop through the new_users list to see if each new username has already been used. \n",
    "If it has, print a message that the person will need to enter a new username. \n",
    "If a username has not been used, print a message saying that the username is available.\n",
    "\n",
    "•\t Make sure your comparison is case insensitive. If 'John' has been used, 'JOHN' should not be accepted."
   ]
  },
  {
   "cell_type": "code",
   "execution_count": 30,
   "metadata": {},
   "outputs": [
    {
     "name": "stdout",
     "output_type": "stream",
     "text": [
      "enter your name into webpage. jamal\n",
      "['kahsif', 'naeem', 'farzeen', 'jamal']\n",
      "0\n",
      "username already exist that is jamal.\n",
      "['kahsif', 'naeem', 'farzeen']\n"
     ]
    }
   ],
   "source": [
    "current_users = ['asad','jamal','kamal','fareed',]\n",
    "new_users = ['kahsif','naeem','farzeen']\n",
    "\n",
    "b = str(input('enter your name into webpage. '))\n",
    "new_users.append(b)\n",
    "print(new_users )   \n",
    "   \n",
    "c=current_users.count('b')\n",
    "print(c)\n",
    "\n",
    "for i in current_users:\n",
    "    \n",
    "    for x in new_users:\n",
    "        if i == x:\n",
    "            print(f'username already exist that is {i}.')\n",
    "            new_users.pop()\n",
    "            break\n",
    "            \n",
    "        #else:               # current_users != new_users:\n",
    "           # print(\"username available \") \n",
    "            #break\n",
    "               \n",
    "print(new_users)\n",
    "    \n",
    "    "
   ]
  },
  {
   "cell_type": "code",
   "execution_count": 34,
   "metadata": {},
   "outputs": [
    {
     "name": "stdout",
     "output_type": "stream",
     "text": [
      "['jamal', 'fareed', 'kamal']\n"
     ]
    }
   ],
   "source": [
    "#current_users = ['asad','jamal','kamal','fareed',]\n",
    "#new_users = ['kahsif','naeem','farzeen','asad']\n",
    "#a=list(set(current_users) - set(new_users))\n",
    "#print(a)"
   ]
  },
  {
   "cell_type": "code",
   "execution_count": 31,
   "metadata": {},
   "outputs": [
    {
     "name": "stdout",
     "output_type": "stream",
     "text": [
      "['fareed', 'jamal', 'asad']\n"
     ]
    }
   ],
   "source": [
    "current_users = ['asad','jamal','kamal','fareed',]\n",
    "new_users = ['kahsif','naeem','farzeen','asad','fareed','jamal']\n",
    "result = []\n",
    "a=list(set(current_users))\n",
    "b=list(set(new_users))\n",
    "for x in b:\n",
    "    if x in a:\n",
    "        result.append(x)\n",
    "    #else:\n",
    "        #print('username is availabale')\n",
    "print(result)"
   ]
  },
  {
   "cell_type": "code",
   "execution_count": null,
   "metadata": {},
   "outputs": [],
   "source": []
  },
  {
   "cell_type": "markdown",
   "metadata": {},
   "source": [
    "# Q12:"
   ]
  },
  {
   "cell_type": "markdown",
   "metadata": {},
   "source": [
    "Use a dictionary to store information about a person you know.\n",
    "Store their first name, last name, age, and the city in which they live. \n",
    "You should have keys such as first_name, last_name, age, and city. \n",
    "Print each piece of information stored in your dictionary"
   ]
  },
  {
   "cell_type": "code",
   "execution_count": 17,
   "metadata": {},
   "outputs": [
    {
     "name": "stdout",
     "output_type": "stream",
     "text": [
      "fname\n",
      "lname\n",
      "age\n",
      "live\n",
      "imran\n",
      "ahmed\n",
      "33\n",
      "khi\n"
     ]
    }
   ],
   "source": [
    "personal_infos={'fname':'imran','lname':'ahmed','age':33,'live':'khi',}\n",
    "for key in personal_infos.keys():\n",
    "    print(key)\n",
    "    \n",
    "for value in personal_infos.values():\n",
    "    print(value)"
   ]
  },
  {
   "cell_type": "code",
   "execution_count": null,
   "metadata": {},
   "outputs": [],
   "source": []
  },
  {
   "cell_type": "markdown",
   "metadata": {},
   "source": [
    "# Q13:"
   ]
  },
  {
   "cell_type": "markdown",
   "metadata": {},
   "source": [
    "Starts with your last question 12 , loop through the dictionary’s keys and values.\n",
    "When you’re sure that your loop works, add five more Python terms to your\n",
    "dictionary . When you run your program again, these new words and meanings\n",
    "should automatically be included in the output."
   ]
  },
  {
   "cell_type": "code",
   "execution_count": 18,
   "metadata": {},
   "outputs": [
    {
     "name": "stdout",
     "output_type": "stream",
     "text": [
      "fname imran\n",
      "lname ahmed\n",
      "age 33\n",
      "live1 khi\n",
      "\n",
      "Add new content into dictionary\n",
      "\n",
      "fname imran\n",
      "lname ahmed\n",
      "age 33\n",
      "live1 khi\n",
      "live2 1223\n",
      "address1 9/9 khi\n",
      "address2 iqbal town lhr\n",
      "postal code1 1223\n",
      "postal code2 6788\n"
     ]
    }
   ],
   "source": [
    "personel_infos={'fname':'imran','lname':'ahmed','age':33,'live1':'khi',}\n",
    "for key,value in personal_infos.items():\n",
    "    print(key,value)\n",
    "\n",
    "print('\\nAdd new content into dictionary\\n')\n",
    " \n",
    "personel_infos['live2'] = '1223'\n",
    "personel_infos['address1'] = '9/9 khi'\n",
    "personel_infos['address2'] = 'iqbal town lhr'\n",
    "personal_infos['postal code1'] = '1223'\n",
    "personal_infos['postal code2'] = '6788'\n",
    "for key,value in personal_infos.items():\n",
    "    print(key,value)"
   ]
  },
  {
   "cell_type": "code",
   "execution_count": 4,
   "metadata": {},
   "outputs": [
    {
     "name": "stdout",
     "output_type": "stream",
     "text": [
      "enter to start any key and q for quit.  \n",
      "fname imran\n",
      "lname ahmed\n",
      "age 33\n",
      "live1 khi\n",
      "\n",
      "Add new content into dictionary\n",
      "\n",
      "enter personel info. live2\n",
      "enter info value. lhr\n",
      "fname imran\n",
      "lname ahmed\n",
      "age 33\n",
      "live1 khi\n",
      "live2 lhr\n",
      "enter q for quit \n",
      "enter personel info. address1\n",
      "enter info value. 9/9 khi \n",
      "fname imran\n",
      "lname ahmed\n",
      "age 33\n",
      "live1 khi\n",
      "live2 lhr\n",
      "address1 9/9 khi \n",
      "enter q for quit \n",
      "enter personel info. address2\n",
      "enter info value. iqbal town lhr\n",
      "fname imran\n",
      "lname ahmed\n",
      "age 33\n",
      "live1 khi\n",
      "live2 lhr\n",
      "address1 9/9 khi \n",
      "address2 iqbal town lhr\n",
      "enter q for quit\n",
      "enter personel info. postal code1\n",
      "enter info value. 1233\n",
      "fname imran\n",
      "lname ahmed\n",
      "age 33\n",
      "live1 khi\n",
      "live2 lhr\n",
      "address1 9/9 khi \n",
      "address2 iqbal town lhr\n",
      "postal code1 1233\n",
      "enter q for quit \n",
      "enter personel info. postal code2 \n",
      "enter info value. 7589\n",
      "fname imran\n",
      "lname ahmed\n",
      "age 33\n",
      "live1 khi\n",
      "live2 lhr\n",
      "address1 9/9 khi \n",
      "address2 iqbal town lhr\n",
      "postal code1 1233\n",
      "postal code2  7589\n",
      "enter q for quitq\n"
     ]
    }
   ],
   "source": [
    "personel_infos={'fname':'imran','lname':'ahmed','age':33,'live1':'khi',}\n",
    "c=str(input('enter to start any key and q for quit. ')) \n",
    "\n",
    "for key,value in personel_infos.items():\n",
    "    print(key,value)\n",
    "\n",
    "print('\\nAdd new content into dictionary\\n')\n",
    "\n",
    "\n",
    "while(c!='q'):\n",
    "    a = str(input('enter personel info. '))\n",
    "    b = str(input('enter info value. '))\n",
    "    \n",
    "    personel_infos[a] = b\n",
    "    \n",
    "#personel_infos['address1'] = '9/9 khi'\n",
    "#personel_infos['address2'] = 'iqbal town lhr'\n",
    "#personel_infos['postal code1'] = '1223'\n",
    "#personel_infos['postal code2'] = '6788'\n",
    "\n",
    "    for key,value in personel_infos.items():\n",
    "        print(key,value)\n",
    "    c = str(input('\\nenter q for quit and any key to continue.\\n'))"
   ]
  },
  {
   "cell_type": "code",
   "execution_count": null,
   "metadata": {},
   "outputs": [],
   "source": []
  },
  {
   "cell_type": "markdown",
   "metadata": {},
   "source": [
    "# Q14:"
   ]
  },
  {
   "cell_type": "markdown",
   "metadata": {},
   "source": [
    "Make a dictionary containing three major rivers and the country\n",
    "each river runs through. One key-value pair might be 'nile': 'egypt'.\n",
    "    \n",
    "    \n",
    "•\t Use a loop to print a sentence about each river, such as The Nile runs\n",
    "through Egypt.\n",
    "\n",
    "NOTE: use upper case through keys and values."
   ]
  },
  {
   "cell_type": "code",
   "execution_count": 1,
   "metadata": {},
   "outputs": [
    {
     "ename": "SyntaxError",
     "evalue": "invalid syntax (<ipython-input-1-be661c865e9b>, line 1)",
     "output_type": "error",
     "traceback": [
      "\u001b[1;36m  File \u001b[1;32m\"<ipython-input-1-be661c865e9b>\"\u001b[1;36m, line \u001b[1;32m1\u001b[0m\n\u001b[1;33m    country_and_rivers = { {'rivers':['nile','chanab',:'qabol']},{'country':['Eygpt','Pakistan','Afganistan']},}\u001b[0m\n\u001b[1;37m                                                      ^\u001b[0m\n\u001b[1;31mSyntaxError\u001b[0m\u001b[1;31m:\u001b[0m invalid syntax\n"
     ]
    }
   ],
   "source": [
    "country_and_rivers = { {'rivers':['nile','chanab',:'qabol']},{'country':['Eygpt','Pakistan','Afganistan']},}\n",
    "for i in country_and_rivers():\n",
    "    print(i)"
   ]
  },
  {
   "cell_type": "code",
   "execution_count": 11,
   "metadata": {},
   "outputs": [
    {
     "name": "stdout",
     "output_type": "stream",
     "text": [
      "Egypt nile\n",
      "Pakistan chanab\n",
      "Afganistan qabol\n"
     ]
    }
   ],
   "source": [
    "country_and_rivers = {'Egypt':'nile','Pakistan':'chanab','Afganistan':'qabol'}\n",
    "for k,v in country_and_rivers.items():\n",
    "    print(k,v)"
   ]
  },
  {
   "cell_type": "code",
   "execution_count": null,
   "metadata": {},
   "outputs": [],
   "source": []
  },
  {
   "cell_type": "markdown",
   "metadata": {},
   "source": [
    "# Q15:"
   ]
  },
  {
   "cell_type": "markdown",
   "metadata": {},
   "source": [
    "Make several dictionaries, where the name of each dictionary is the\n",
    "name of a pet. In each dictionary, include the kind of animal and the owner’s\n",
    "name. Store these dictionaries in a list called pets. Next, loop through your list\n",
    "and as you do print everything you know about each pet."
   ]
  },
  {
   "cell_type": "code",
   "execution_count": 1,
   "metadata": {},
   "outputs": [
    {
     "name": "stdout",
     "output_type": "stream",
     "text": [
      "{'animals': ['cat', 'parrot', 'fench', 'dog']}\n",
      "{'owner_name': ['asad', 'kamal', 'asif', 'jamal']}\n"
     ]
    }
   ],
   "source": [
    "pets = [{'animals':['cat','parrot','fench','dog']}, {'owner_name':['asad','kamal','asif','jamal']}]\n",
    "\n",
    "\n",
    "for key in pets:\n",
    "    print(key)\n",
    "    \n",
    "    #for j in pets:\n",
    "    \n",
    "\n",
    "    \n",
    "\n"
   ]
  },
  {
   "cell_type": "code",
   "execution_count": null,
   "metadata": {},
   "outputs": [],
   "source": []
  },
  {
   "cell_type": "code",
   "execution_count": null,
   "metadata": {},
   "outputs": [],
   "source": []
  }
 ],
 "metadata": {
  "kernelspec": {
   "display_name": "Python 3",
   "language": "python",
   "name": "python3"
  },
  "language_info": {
   "codemirror_mode": {
    "name": "ipython",
    "version": 3
   },
   "file_extension": ".py",
   "mimetype": "text/x-python",
   "name": "python",
   "nbconvert_exporter": "python",
   "pygments_lexer": "ipython3",
   "version": "3.7.3"
  }
 },
 "nbformat": 4,
 "nbformat_minor": 2
}
